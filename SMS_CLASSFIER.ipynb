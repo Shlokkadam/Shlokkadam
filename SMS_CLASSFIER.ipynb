{
  "nbformat": 4,
  "nbformat_minor": 0,
  "metadata": {
    "colab": {
      "provenance": [],
      "mount_file_id": "1JJXfKLrPU78e8ujf0FA8S8AN3bV7OEvb",
      "authorship_tag": "ABX9TyNMp/gycmuzqgiHV6ZE14ZU",
      "include_colab_link": true
    },
    "kernelspec": {
      "name": "python3",
      "display_name": "Python 3"
    },
    "language_info": {
      "name": "python"
    }
  },
  "cells": [
    {
      "cell_type": "markdown",
      "metadata": {
        "id": "view-in-github",
        "colab_type": "text"
      },
      "source": [
        "<a href=\"https://colab.research.google.com/github/Shlokkadam/Shlokkadam/blob/main/SMS_CLASSFIER.ipynb\" target=\"_parent\"><img src=\"https://colab.research.google.com/assets/colab-badge.svg\" alt=\"Open In Colab\"/></a>"
      ]
    },
    {
      "cell_type": "code",
      "source": [
        "import pandas as pd\n",
        "from sklearn.naive_bayes import MultinomialNB\n",
        "from sklearn.feature_extraction.text import TfidfVectorizer\n",
        "\n"
      ],
      "metadata": {
        "id": "lvGA7h0tDeJy"
      },
      "execution_count": null,
      "outputs": []
    },
    {
      "cell_type": "code",
      "source": [
        "import pandas as pd\n",
        "\n",
        "# Create a DataFrame from the provided data\n",
        "data = {'message': ['Free credit!', 'Congratulations! You have won a free trip!', 'This is a reminder to pick up your prescription.'], 'label': ['spam', 'spam', 'ham']}\n",
        "df = pd.DataFrame(data)\n",
        "\n",
        "# Print the DataFrame\n",
        "print(df)"
      ],
      "metadata": {
        "colab": {
          "base_uri": "https://localhost:8080/"
        },
        "id": "epTl2902OF3b",
        "outputId": "9ead4ee2-3dbb-490f-b695-c0ef3a8dfa65"
      },
      "execution_count": null,
      "outputs": [
        {
          "output_type": "stream",
          "name": "stdout",
          "text": [
            "                                            message label\n",
            "0                                      Free credit!  spam\n",
            "1        Congratulations! You have won a free trip!  spam\n",
            "2  This is a reminder to pick up your prescription.   ham\n"
          ]
        }
      ]
    },
    {
      "cell_type": "code",
      "source": [
        "# Separate the SMS messages and labels\n",
        "X = data['message']\n",
        "y = data['label']\n",
        "\n",
        "# Create a TF-IDF vectorizer to transform the SMS messages into numerical features\n",
        "vectorizer = TfidfVectorizer()\n",
        "X_transformed = vectorizer.fit_transform(X)\n",
        "\n",
        "# Train a Naive Bayes classifier\n",
        "classifier = MultinomialNB()\n",
        "classifier.fit(X_transformed, y)\n",
        "\n",
        "# Make predictions on new SMS messages\n",
        "new_messages = ['Free credit!', 'Congratulations! You have won a free trip!', 'This is a reminder to pick up your prescription.']\n",
        "new_messages_transformed = vectorizer.transform(new_messages)\n",
        "predictions = classifier.predict(new_messages_transformed)\n",
        "\n",
        "# Print the predictions\n",
        "print(predictions)"
      ],
      "metadata": {
        "colab": {
          "base_uri": "https://localhost:8080/"
        },
        "id": "er-osZAXFc7V",
        "outputId": "bcb61b89-d00a-41ac-f25a-7fee31d7467d"
      },
      "execution_count": null,
      "outputs": [
        {
          "output_type": "stream",
          "name": "stdout",
          "text": [
            "['spam' 'spam' 'ham']\n"
          ]
        }
      ]
    },
    {
      "cell_type": "code",
      "source": [],
      "metadata": {
        "id": "hpJvrD0bOKUk"
      },
      "execution_count": null,
      "outputs": []
    }
  ]
}